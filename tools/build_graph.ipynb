{
 "cells": [
  {
   "cell_type": "code",
   "execution_count": 14,
   "id": "64f8916c",
   "metadata": {},
   "outputs": [],
   "source": [
    "import os\n",
    "\n",
    "from langchain_neo4j import Neo4jGraph\n",
    "from langchain_core.documents import Document\n",
    "from langchain_experimental.graph_transformers import LLMGraphTransformer\n",
    "\n",
    "from langchain_community.chat_models import ChatTongyi\n",
    "\n",
    "import json\n",
    "\n",
    "os.environ[\"DASHSCOPE_API_KEY\"] = \"sk-c763fc92bf8c46c7ae31639b05d89c96\"\n",
    "\n",
    "os.environ[\"NEO4J_URI\"] = \"neo4j://localhost:7687\"\n",
    "os.environ[\"NEO4J_USERNAME\"] = \"neo4j\"\n",
    "os.environ[\"NEO4J_PASSWORD\"] = \"password\""
   ]
  },
  {
   "cell_type": "code",
   "execution_count": 15,
   "id": "61fcdcc8",
   "metadata": {},
   "outputs": [],
   "source": [
    "graph = Neo4jGraph()"
   ]
  },
  {
   "cell_type": "code",
   "execution_count": 16,
   "id": "dc893436",
   "metadata": {},
   "outputs": [],
   "source": [
    "llm = ChatTongyi(\n",
    "    model=\"qwen-max\",        \n",
    "    temperature=0,\n",
    "    # max_tokens=2048,\n",
    ")"
   ]
  },
  {
   "cell_type": "code",
   "execution_count": 17,
   "id": "4c64f8af",
   "metadata": {},
   "outputs": [],
   "source": [
    "disease = []\n",
    "FILE_PATH = \"disease.jsonl\"\n",
    "with open(FILE_PATH,\"r\") as file:\n",
    "    content = file.readlines()\n",
    "    s = \"\"\n",
    "    for l in content:\n",
    "        s += l\n",
    "        if l == \"}\\n\":\n",
    "            disease.append(json.loads(s))\n",
    "            s = \"\""
   ]
  },
  {
   "cell_type": "code",
   "execution_count": 18,
   "id": "e1da8b30",
   "metadata": {},
   "outputs": [],
   "source": [
    "llm_transformer = LLMGraphTransformer(\n",
    "    llm=llm,\n",
    "    allowed_nodes=[\"皮肤病\", \"证型\", \"症状\", \"方剂\"],\n",
    "    allowed_relationships=[\n",
    "        \"辨证为\",      # 皮肤病 → 证型\n",
    "        \"主症包括\",    # 证型 → 症状\n",
    "        \"治法为\",      # 证型 → 治法（可扩展）\n",
    "        \"方剂包含\",    # 方剂 → 中药（若包含中药节点）\n",
    "        \"用于治疗\"     # 方剂 → 皮肤病\n",
    "    ],\n",
    "    strict_mode=True,\n",
    "    node_properties=[\"别名\", \"病因\", \"病机\"],\n",
    "    relationship_properties=[\"依据\", \"强度\"],\n",
    "    additional_instructions=\"\"\"\n",
    "    json格式中，name属性对应皮肤病和别名，注意两个是同一个皮肤病，请不要放在不同节点里面，症状在key_point中，用于治疗和方剂在solution里面\n",
    "    皮肤病带括号的括号内是别名,各个节点的关系如下：皮肤病 → 证型，证型 → 症状，证型 → 治法（可扩展），方剂 → 中药（若包含中药节点），方剂 → 皮肤病\n",
    "    \"\"\"\n",
    ")"
   ]
  },
  {
   "cell_type": "code",
   "execution_count": 19,
   "id": "c145b0cb",
   "metadata": {},
   "outputs": [
    {
     "name": "stdout",
     "output_type": "stream",
     "text": [
      "241\n"
     ]
    }
   ],
   "source": [
    "documents = []\n",
    "for d in disease:\n",
    "    text = json.dumps(d,ensure_ascii=False)\n",
    "    documents.append(Document(text))\n",
    "print(len(documents))"
   ]
  },
  {
   "cell_type": "code",
   "execution_count": 20,
   "id": "1e80040d",
   "metadata": {},
   "outputs": [
    {
     "name": "stdout",
     "output_type": "stream",
     "text": [
      "Processing document 240/241...\n",
      "  ❌ Batch failed in doc 239, chunk 0: 'request'\n",
      "Processing document 241/241...\n",
      "  ❌ Batch failed in doc 240, chunk 0: 'request'\n"
     ]
    }
   ],
   "source": [
    "from langchain_text_splitters import RecursiveCharacterTextSplitter\n",
    "import tiktoken\n",
    "\n",
    "# === 配置 ===\n",
    "BATCH_SIZE = 10\n",
    "TOKENIZER_MODEL = \"gpt-4\"  # 仅用于估算 token，Qwen 与 tiktoken 接近\n",
    "MAX_CHUNK_TOKENS = 20000    # 安全上限（Qwen 最大上下文 ~32k，留足余量）\n",
    "\n",
    "# 初始化分词器\n",
    "tokenizer = tiktoken.encoding_for_model(TOKENIZER_MODEL)\n",
    "\n",
    "def tiktoken_len(text):\n",
    "    return len(tokenizer.encode(text))\n",
    "\n",
    "# 初始化文本分割器（按 token 切分）\n",
    "text_splitter = RecursiveCharacterTextSplitter(\n",
    "    chunk_size=MAX_CHUNK_TOKENS,\n",
    "    chunk_overlap=200,\n",
    "    length_function=tiktoken_len,\n",
    "    separators=[\"\\n\\n\", \"\\n\", \"。\", \"；\", \"？\", \"！\", \" \", \"\"],\n",
    ")\n",
    "\n",
    "# === 加载断点 ===\n",
    "begin = 0\n",
    "try:\n",
    "    with open(\"bp.txt\", \"r\") as f:\n",
    "        begin = int(f.read().strip())\n",
    "except (FileNotFoundError, ValueError):\n",
    "    begin = 0\n",
    "\n",
    "# === 主循环：按原始文档索引断点续跑 ===\n",
    "for doc_idx in range(begin, len(documents)):\n",
    "    print(f\"Processing document {doc_idx + 1}/{len(documents)}...\")\n",
    "    original_doc = documents[doc_idx]\n",
    "\n",
    "    # 自动切分超长文档\n",
    "    try:\n",
    "        split_docs = text_splitter.split_documents([original_doc])\n",
    "    except Exception as e:\n",
    "        print(f\"  ⚠️ Failed to split document {doc_idx}: {e}\")\n",
    "        split_docs = [original_doc]  # 回退到原始文档（可能后续失败）\n",
    "\n",
    "    # 分批处理切分后的片段（即使一个文档被切成多块，也逐块处理）\n",
    "    for i in range(0, len(split_docs), BATCH_SIZE):\n",
    "        batch = split_docs[i:i + BATCH_SIZE]\n",
    "        try:\n",
    "            graph_docs = llm_transformer.convert_to_graph_documents(batch)\n",
    "            graph.add_graph_documents(graph_docs, baseEntityLabel=True)\n",
    "        except Exception as e:\n",
    "            print(f\"  ❌ Batch failed in doc {doc_idx}, chunk {i//BATCH_SIZE}: {e}\")\n",
    "            # 可选：记录失败 chunk，但为简化，此处不中断\n",
    "            continue\n",
    "\n",
    "    # 成功处理完一个原始文档后，更新断点（按原始 doc_idx）\n",
    "    with open(\"bp.txt\", \"w\") as f:\n",
    "        f.write(str(doc_idx + 1))  # 下次从下一个原始文档开始"
   ]
  }
 ],
 "metadata": {
  "kernelspec": {
   "display_name": "base",
   "language": "python",
   "name": "python3"
  },
  "language_info": {
   "codemirror_mode": {
    "name": "ipython",
    "version": 3
   },
   "file_extension": ".py",
   "mimetype": "text/x-python",
   "name": "python",
   "nbconvert_exporter": "python",
   "pygments_lexer": "ipython3",
   "version": "3.12.9"
  }
 },
 "nbformat": 4,
 "nbformat_minor": 5
}
